{
 "cells": [
  {
   "cell_type": "code",
   "execution_count": 18,
   "metadata": {},
   "outputs": [],
   "source": [
    "import snscrape.modules.twitter as sntwitter\n",
    "import pandas as pd\n",
    "import numpy as np\n",
    "from tw_sentiment import preprocess_tweet, load_roberta_model_tokenizer, analyze_tweet"
   ]
  },
  {
   "cell_type": "code",
   "execution_count": 31,
   "metadata": {},
   "outputs": [],
   "source": [
    "data = {\n",
    "    'monero' : {\n",
    "        'query' :  'monero lang:en since:2023-06-10',\n",
    "        'dataframe' : None,\n",
    "        'optimism_score' : 0,\n",
    "        },\n",
    "    'bitcoin' : {\n",
    "        'query' :  'bitcoin lang:en since:2023-06-10',\n",
    "        'dataframe' : None,\n",
    "        'optimism_score' : 0,\n",
    "        },\n",
    "    'dogecoin' : {\n",
    "        'query' :  'dogecoin lang:en since:2023-06-10',\n",
    "        'dataframe' : None,\n",
    "        'optimism_score' : 0,\n",
    "        },\n",
    "    'ethereum' : {\n",
    "        'query' :  'ethereum lang:en since:2023-06-10',\n",
    "        'dataframe' : None,\n",
    "        'optimism_score' : 0,\n",
    "        },\n",
    "    'solana' : {\n",
    "        'query' :  'solana lang:en since:2023-06-10',\n",
    "        'dataframe' : None,\n",
    "        'optimism_score' : 0,\n",
    "        },\n",
    "    'cardano' : {\n",
    "        'query' :  'ethereum lang:en since:2023-06-10',\n",
    "        'dataframe' : None,\n",
    "        'optimism_score' : 0,\n",
    "        },\n",
    "    'radix' : {\n",
    "        'query' :  'radix lang:en since:2023-06-10',\n",
    "        'dataframe' : None,\n",
    "        'optimism_score' : 0,\n",
    "        },\n",
    "}"
   ]
  },
  {
   "cell_type": "code",
   "execution_count": 32,
   "metadata": {},
   "outputs": [],
   "source": [
    "tokenizer, model = load_roberta_model_tokenizer()"
   ]
  },
  {
   "cell_type": "code",
   "execution_count": 33,
   "metadata": {},
   "outputs": [
    {
     "name": "stdout",
     "output_type": "stream",
     "text": [
      "monero lang:en since:2023-06-10\n",
      "bitcoin lang:en since:2023-06-10\n"
     ]
    },
    {
     "name": "stderr",
     "output_type": "stream",
     "text": [
      "Stopping after 20 empty pages\n"
     ]
    },
    {
     "name": "stdout",
     "output_type": "stream",
     "text": [
      "dogecoin lang:en since:2023-06-10\n"
     ]
    },
    {
     "name": "stderr",
     "output_type": "stream",
     "text": [
      "Unavailable user in card on tweet 1670680506969608195\n",
      "User 933016351756742656 not found in user refs in card on tweet 1670680506969608195\n",
      "Unavailable user in card on tweet 1670679569031131136\n",
      "User 933016351756742656 not found in user refs in card on tweet 1670679569031131136\n",
      "Unavailable user in card on tweet 1670679433571606530\n",
      "User 933016351756742656 not found in user refs in card on tweet 1670679433571606530\n"
     ]
    },
    {
     "name": "stdout",
     "output_type": "stream",
     "text": [
      "ethereum lang:en since:2023-06-10\n",
      "solana lang:en since:2023-06-10\n",
      "ethereum lang:en since:2023-06-10\n"
     ]
    }
   ],
   "source": [
    "\n",
    "limit = 100\n",
    "for key in data:\n",
    "    query = data[key]['query']\n",
    "    print(query)\n",
    "    tweets = []\n",
    "    for tweet in sntwitter.TwitterSearchScraper(query).get_items():\n",
    "        if len(tweets) == limit:\n",
    "            break\n",
    "        else:\n",
    "            tweets.append([tweet.date, tweet.user.username , tweet.rawContent])\n",
    "    data[key]['dataframe'] = pd.DataFrame(tweets, columns=['Date', 'User', 'Tweet'])\n",
    "    "
   ]
  },
  {
   "cell_type": "code",
   "execution_count": 41,
   "metadata": {},
   "outputs": [],
   "source": [
    "for key in data:\n",
    "    df = data[key]['dataframe']\n",
    "    df['processed_tweets'] = df['Tweet'].apply(lambda x: preprocess_tweet(x))\n",
    "    df['optimism_score'] = df['processed_tweets'].apply(lambda x: analyze_tweet(tokenizer, model, x))\n",
    "    data[key]['optimism_score'] = np.sum(df['optimism_score'])\n",
    "    # Remove timezone from columns - otherwise there are problems with exporting the dataframe to Excel\n",
    "    df['Date'] = df['Date'].dt.tz_localize(None)"
   ]
  },
  {
   "cell_type": "code",
   "execution_count": 42,
   "metadata": {},
   "outputs": [
    {
     "name": "stdout",
     "output_type": "stream",
     "text": [
      "monero: 15.119610434165224\n",
      "bitcoin: 1.8586253740359098\n",
      "dogecoin: 24.44772095803637\n",
      "ethereum: 35.8623839856009\n",
      "solana: 29.187380094837863\n",
      "cardano: 35.7318348690751\n"
     ]
    }
   ],
   "source": [
    "def print_scores(data):\n",
    "    for key in data:\n",
    "        print(f\"{key}: {data[key]['optimism_score']}\")\n",
    "print_scores(data)"
   ]
  },
  {
   "cell_type": "code",
   "execution_count": 43,
   "metadata": {},
   "outputs": [
    {
     "data": {
      "text/html": [
       "<div>\n",
       "<style scoped>\n",
       "    .dataframe tbody tr th:only-of-type {\n",
       "        vertical-align: middle;\n",
       "    }\n",
       "\n",
       "    .dataframe tbody tr th {\n",
       "        vertical-align: top;\n",
       "    }\n",
       "\n",
       "    .dataframe thead th {\n",
       "        text-align: right;\n",
       "    }\n",
       "</style>\n",
       "<table border=\"1\" class=\"dataframe\">\n",
       "  <thead>\n",
       "    <tr style=\"text-align: right;\">\n",
       "      <th></th>\n",
       "      <th>Date</th>\n",
       "      <th>User</th>\n",
       "      <th>Tweet</th>\n",
       "      <th>processed_tweets</th>\n",
       "      <th>optimism_score</th>\n",
       "    </tr>\n",
       "  </thead>\n",
       "  <tbody>\n",
       "    <tr>\n",
       "      <th>0</th>\n",
       "      <td>2023-06-19 06:33:42</td>\n",
       "      <td>Zayts_ETHs</td>\n",
       "      <td>gn fam 🧡, the last $LOYAL airdrop is now live ...</td>\n",
       "      <td>gn fam 🧡, the last $LOYAL airdrop is now live ...</td>\n",
       "      <td>0.099552</td>\n",
       "    </tr>\n",
       "    <tr>\n",
       "      <th>1</th>\n",
       "      <td>2023-06-19 06:33:36</td>\n",
       "      <td>yeti_0x</td>\n",
       "      <td>@danieleripoll @Shamik04660398 @hodlmee @thepo...</td>\n",
       "      <td>@user @user @user @user Misspoke, meant not a ...</td>\n",
       "      <td>-0.170218</td>\n",
       "    </tr>\n",
       "    <tr>\n",
       "      <th>2</th>\n",
       "      <td>2023-06-19 06:33:34</td>\n",
       "      <td>Zayts_ETHs</td>\n",
       "      <td>gn fam 🧡, the last $LOYAL airdrop is now live ...</td>\n",
       "      <td>gn fam 🧡, the last $LOYAL airdrop is now live ...</td>\n",
       "      <td>0.099552</td>\n",
       "    </tr>\n",
       "    <tr>\n",
       "      <th>3</th>\n",
       "      <td>2023-06-19 06:33:21</td>\n",
       "      <td>SygnalAi</td>\n",
       "      <td>SYGNAL - Daily Ethereum signal. June 19th 2023...</td>\n",
       "      <td>SYGNAL - Daily Ethereum signal. June 19th 2023...</td>\n",
       "      <td>0.092479</td>\n",
       "    </tr>\n",
       "    <tr>\n",
       "      <th>4</th>\n",
       "      <td>2023-06-19 06:33:20</td>\n",
       "      <td>OtaniKoich60509</td>\n",
       "      <td>Layer 1.5 solutions can involve the loading an...</td>\n",
       "      <td>Layer 1.5 solutions can involve the loading an...</td>\n",
       "      <td>0.253265</td>\n",
       "    </tr>\n",
       "    <tr>\n",
       "      <th>...</th>\n",
       "      <td>...</td>\n",
       "      <td>...</td>\n",
       "      <td>...</td>\n",
       "      <td>...</td>\n",
       "      <td>...</td>\n",
       "    </tr>\n",
       "    <tr>\n",
       "      <th>95</th>\n",
       "      <td>2023-06-19 06:12:12</td>\n",
       "      <td>DavieHenryGravy</td>\n",
       "      <td>Beware of the Sleepdrop Crypto Scam - Protect ...</td>\n",
       "      <td>Beware of the Sleepdrop Crypto Scam - Protect ...</td>\n",
       "      <td>-0.455761</td>\n",
       "    </tr>\n",
       "    <tr>\n",
       "      <th>96</th>\n",
       "      <td>2023-06-19 06:12:06</td>\n",
       "      <td>NoticCrypto</td>\n",
       "      <td>Which crypto project do you trust the most?\\n\\...</td>\n",
       "      <td>Which crypto project do you trust the most?\\n\\...</td>\n",
       "      <td>0.100340</td>\n",
       "    </tr>\n",
       "    <tr>\n",
       "      <th>97</th>\n",
       "      <td>2023-06-19 06:12:01</td>\n",
       "      <td>CryptoEgod</td>\n",
       "      <td>🎁GIVEAWAY 🎁\\n$5 Ethereum #Giveaway  \\nEnd in  ...</td>\n",
       "      <td>🎁GIVEAWAY 🎁\\n$5 Ethereum #Giveaway    in  • 48...</td>\n",
       "      <td>0.552495</td>\n",
       "    </tr>\n",
       "    <tr>\n",
       "      <th>98</th>\n",
       "      <td>2023-06-19 06:11:58</td>\n",
       "      <td>levi28473</td>\n",
       "      <td>@yourcryptodj $OMNOM ,the most charming dinosa...</td>\n",
       "      <td>@user $OMNOM ,the most charming dinosaur on th...</td>\n",
       "      <td>0.970039</td>\n",
       "    </tr>\n",
       "    <tr>\n",
       "      <th>99</th>\n",
       "      <td>2023-06-19 06:11:55</td>\n",
       "      <td>Nftadvice211</td>\n",
       "      <td>Drop Your $ETH Address -  \\n10 Lucky Winners g...</td>\n",
       "      <td>Drop Your $ETH Address -    Lucky Winners get ...</td>\n",
       "      <td>0.739865</td>\n",
       "    </tr>\n",
       "  </tbody>\n",
       "</table>\n",
       "<p>100 rows × 5 columns</p>\n",
       "</div>"
      ],
      "text/plain": [
       "                  Date             User  \\\n",
       "0  2023-06-19 06:33:42       Zayts_ETHs   \n",
       "1  2023-06-19 06:33:36          yeti_0x   \n",
       "2  2023-06-19 06:33:34       Zayts_ETHs   \n",
       "3  2023-06-19 06:33:21         SygnalAi   \n",
       "4  2023-06-19 06:33:20  OtaniKoich60509   \n",
       "..                 ...              ...   \n",
       "95 2023-06-19 06:12:12  DavieHenryGravy   \n",
       "96 2023-06-19 06:12:06      NoticCrypto   \n",
       "97 2023-06-19 06:12:01       CryptoEgod   \n",
       "98 2023-06-19 06:11:58        levi28473   \n",
       "99 2023-06-19 06:11:55     Nftadvice211   \n",
       "\n",
       "                                                Tweet  \\\n",
       "0   gn fam 🧡, the last $LOYAL airdrop is now live ...   \n",
       "1   @danieleripoll @Shamik04660398 @hodlmee @thepo...   \n",
       "2   gn fam 🧡, the last $LOYAL airdrop is now live ...   \n",
       "3   SYGNAL - Daily Ethereum signal. June 19th 2023...   \n",
       "4   Layer 1.5 solutions can involve the loading an...   \n",
       "..                                                ...   \n",
       "95  Beware of the Sleepdrop Crypto Scam - Protect ...   \n",
       "96  Which crypto project do you trust the most?\\n\\...   \n",
       "97  🎁GIVEAWAY 🎁\\n$5 Ethereum #Giveaway  \\nEnd in  ...   \n",
       "98  @yourcryptodj $OMNOM ,the most charming dinosa...   \n",
       "99  Drop Your $ETH Address -  \\n10 Lucky Winners g...   \n",
       "\n",
       "                                     processed_tweets  optimism_score  \n",
       "0   gn fam 🧡, the last $LOYAL airdrop is now live ...        0.099552  \n",
       "1   @user @user @user @user Misspoke, meant not a ...       -0.170218  \n",
       "2   gn fam 🧡, the last $LOYAL airdrop is now live ...        0.099552  \n",
       "3   SYGNAL - Daily Ethereum signal. June 19th 2023...        0.092479  \n",
       "4   Layer 1.5 solutions can involve the loading an...        0.253265  \n",
       "..                                                ...             ...  \n",
       "95  Beware of the Sleepdrop Crypto Scam - Protect ...       -0.455761  \n",
       "96  Which crypto project do you trust the most?\\n\\...        0.100340  \n",
       "97  🎁GIVEAWAY 🎁\\n$5 Ethereum #Giveaway    in  • 48...        0.552495  \n",
       "98  @user $OMNOM ,the most charming dinosaur on th...        0.970039  \n",
       "99  Drop Your $ETH Address -    Lucky Winners get ...        0.739865  \n",
       "\n",
       "[100 rows x 5 columns]"
      ]
     },
     "execution_count": 43,
     "metadata": {},
     "output_type": "execute_result"
    }
   ],
   "source": [
    "data['ethereum']['dataframe']"
   ]
  },
  {
   "cell_type": "code",
   "execution_count": 44,
   "metadata": {},
   "outputs": [],
   "source": [
    "data['ethereum']['dataframe'].to_excel('ethereum.xlsx')"
   ]
  },
  {
   "cell_type": "code",
   "execution_count": null,
   "metadata": {},
   "outputs": [],
   "source": []
  }
 ],
 "metadata": {
  "kernelspec": {
   "display_name": "venv",
   "language": "python",
   "name": "python3"
  },
  "language_info": {
   "codemirror_mode": {
    "name": "ipython",
    "version": 3
   },
   "file_extension": ".py",
   "mimetype": "text/x-python",
   "name": "python",
   "nbconvert_exporter": "python",
   "pygments_lexer": "ipython3",
   "version": "3.10.9"
  },
  "orig_nbformat": 4
 },
 "nbformat": 4,
 "nbformat_minor": 2
}
